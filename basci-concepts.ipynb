{
 "cells": [
  {
   "cell_type": "code",
   "execution_count": 2,
   "id": "bf6b045a",
   "metadata": {},
   "outputs": [],
   "source": [
    "from pptx import Presentation\n",
    "from pptx.util import Inches\n",
    "\n",
    "# Create presentation\n",
    "prs = Presentation()\n",
    "slide = prs.slides.add_slide(prs.slide_layouts[1])\n",
    "title = slide.shapes.title\n",
    "content = slide.placeholders[1]\n",
    "\n",
    "# Set title\n",
    "title.text = \"Machine Learning Concepts\"\n",
    "\n",
    "# Slide content\n",
    "content.text = (\n",
    "    \"1. Supervised Learning:\\n\"\n",
    "    \"- Learns from labeled data\\n\"\n",
    "    \"- Examples: Fraud detection, image classification\\n\\n\"\n",
    "    \"2. Unsupervised Learning:\\n\"\n",
    "    \"- Finds patterns in unlabeled data\\n\"\n",
    "    \"- Examples: Customer segmentation, anomaly detection\\n\\n\"\n",
    "    \"3. Reinforcement Learning:\\n\"\n",
    "    \"- Learns via rewards and penalties\\n\"\n",
    "    \"- Examples: Robotics, gaming, trading\\n\\n\"\n",
    "    \"4. Target Locking:\\n\"\n",
    "    \"- Tracks specific objects using deep learning\\n\"\n",
    "    \"- Examples: Mixed reality, robotic arms\"\n",
    ")\n",
    "\n",
    "# Save presentation\n",
    "prs.save(\"ML_Concepts_Presentation.pptx\")"
   ]
  }
 ],
 "metadata": {
  "kernelspec": {
   "display_name": "Machine-learning",
   "language": "python",
   "name": "python3"
  },
  "language_info": {
   "codemirror_mode": {
    "name": "ipython",
    "version": 3
   },
   "file_extension": ".py",
   "mimetype": "text/x-python",
   "name": "python",
   "nbconvert_exporter": "python",
   "pygments_lexer": "ipython3",
   "version": "3.12.7"
  }
 },
 "nbformat": 4,
 "nbformat_minor": 5
}
